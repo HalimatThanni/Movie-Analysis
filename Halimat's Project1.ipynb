{
  "cells": [
    {
      "cell_type": "code",
      "execution_count": null,
      "id": "332967b1-28c9-422b-892f-19eb4540e369",
      "metadata": {
        "id": "332967b1-28c9-422b-892f-19eb4540e369"
      },
      "outputs": [],
      "source": [
        "import pandas as pd\n",
        "import numpy as np\n",
        "import matplotlib.pyplot as plt\n",
        "import seaborn as sns\n",
        "from collections import Counter\n",
        "from itertools import chain\n",
        "from datetime import datetime"
      ]
    },
    {
      "cell_type": "markdown",
      "id": "c8062320-5943-4780-a82d-20d351ccc5b1",
      "metadata": {
        "id": "c8062320-5943-4780-a82d-20d351ccc5b1"
      },
      "source": [
        "# Loading data and exploring"
      ]
    },
    {
      "cell_type": "code",
      "execution_count": null,
      "id": "9c463e3e-f753-4ddd-abbc-de21aad75ef5",
      "metadata": {
        "id": "9c463e3e-f753-4ddd-abbc-de21aad75ef5"
      },
      "outputs": [],
      "source": [
        "# Load the data\n",
        "df = pd.read_excel(r'C:\\Users\\Hp\\Downloads\\Halimat Thanni - capstone.xlsx', sheet_name=\"Halimat Thanni - capstone\")"
      ]
    },
    {
      "cell_type": "code",
      "execution_count": null,
      "id": "77ee419d-9f8a-4563-b671-cc90f7db1a83",
      "metadata": {
        "id": "77ee419d-9f8a-4563-b671-cc90f7db1a83",
        "outputId": "0d474567-49a2-49aa-e886-476f2f84bbbd"
      },
      "outputs": [
        {
          "data": {
            "text/html": [
              "<div>\n",
              "<style scoped>\n",
              "    .dataframe tbody tr th:only-of-type {\n",
              "        vertical-align: middle;\n",
              "    }\n",
              "\n",
              "    .dataframe tbody tr th {\n",
              "        vertical-align: top;\n",
              "    }\n",
              "\n",
              "    .dataframe thead th {\n",
              "        text-align: right;\n",
              "    }\n",
              "</style>\n",
              "<table border=\"1\" class=\"dataframe\">\n",
              "  <thead>\n",
              "    <tr style=\"text-align: right;\">\n",
              "      <th></th>\n",
              "      <th>show_id</th>\n",
              "      <th>Type</th>\n",
              "      <th>title</th>\n",
              "      <th>director</th>\n",
              "      <th>Country</th>\n",
              "      <th>date added</th>\n",
              "      <th>rating</th>\n",
              "      <th>duration</th>\n",
              "      <th>listed_in</th>\n",
              "    </tr>\n",
              "  </thead>\n",
              "  <tbody>\n",
              "    <tr>\n",
              "      <th>0</th>\n",
              "      <td>s1</td>\n",
              "      <td>Movie</td>\n",
              "      <td>DICK jOHNSON IS deAD</td>\n",
              "      <td>Kirsten Johnson</td>\n",
              "      <td>United States</td>\n",
              "      <td>2021-09-25 00:00:00</td>\n",
              "      <td>PG-13</td>\n",
              "      <td>90 min</td>\n",
              "      <td>Documentaries</td>\n",
              "    </tr>\n",
              "    <tr>\n",
              "      <th>1</th>\n",
              "      <td>s3</td>\n",
              "      <td>TV Show</td>\n",
              "      <td>GANGLANdS</td>\n",
              "      <td>Julien Leclercq</td>\n",
              "      <td>France</td>\n",
              "      <td>(9/24/2021)</td>\n",
              "      <td>TV-MA</td>\n",
              "      <td>1 Season</td>\n",
              "      <td>Crime TV Shows, International TV Shows, TV Act...</td>\n",
              "    </tr>\n",
              "    <tr>\n",
              "      <th>2</th>\n",
              "      <td>s6</td>\n",
              "      <td>TV Show</td>\n",
              "      <td>MIDNIgHT MASS</td>\n",
              "      <td>Mike Flanagan</td>\n",
              "      <td>United States</td>\n",
              "      <td>(9/24/2021)</td>\n",
              "      <td>TV-MA</td>\n",
              "      <td>1 Season</td>\n",
              "      <td>TV Dramas, TV Horror, TV Mysteries</td>\n",
              "    </tr>\n",
              "    <tr>\n",
              "      <th>3</th>\n",
              "      <td>s14</td>\n",
              "      <td>Movie</td>\n",
              "      <td>COnfESsIoNs OF AN INVISIBLE GIRL</td>\n",
              "      <td>Bruno Garotti</td>\n",
              "      <td>Brazil</td>\n",
              "      <td>2021-09-22 00:00:00</td>\n",
              "      <td>TV-PG</td>\n",
              "      <td>91 min</td>\n",
              "      <td>Children &amp; Family Movies, Comedies</td>\n",
              "    </tr>\n",
              "    <tr>\n",
              "      <th>4</th>\n",
              "      <td>s8</td>\n",
              "      <td>Movie</td>\n",
              "      <td>sANKOFa</td>\n",
              "      <td>Haile Gerima</td>\n",
              "      <td>Us</td>\n",
              "      <td>2021-09-24 00:00:00</td>\n",
              "      <td>TV-MA</td>\n",
              "      <td>125 min</td>\n",
              "      <td>Dramas, Independent Movies, International Movies</td>\n",
              "    </tr>\n",
              "  </tbody>\n",
              "</table>\n",
              "</div>"
            ],
            "text/plain": [
              "  show_id     Type                             title         director  \\\n",
              "0      s1    Movie              DICK jOHNSON IS deAD  Kirsten Johnson   \n",
              "1      s3  TV Show                         GANGLANdS  Julien Leclercq   \n",
              "2      s6  TV Show                     MIDNIgHT MASS    Mike Flanagan   \n",
              "3     s14    Movie  COnfESsIoNs OF AN INVISIBLE GIRL    Bruno Garotti   \n",
              "4      s8    Movie                           sANKOFa     Haile Gerima   \n",
              "\n",
              "         Country           date added rating  duration  \\\n",
              "0  United States  2021-09-25 00:00:00  PG-13    90 min   \n",
              "1         France          (9/24/2021)  TV-MA  1 Season   \n",
              "2  United States          (9/24/2021)  TV-MA  1 Season   \n",
              "3         Brazil  2021-09-22 00:00:00  TV-PG    91 min   \n",
              "4             Us  2021-09-24 00:00:00  TV-MA   125 min   \n",
              "\n",
              "                                           listed_in  \n",
              "0                                      Documentaries  \n",
              "1  Crime TV Shows, International TV Shows, TV Act...  \n",
              "2                 TV Dramas, TV Horror, TV Mysteries  \n",
              "3                 Children & Family Movies, Comedies  \n",
              "4   Dramas, Independent Movies, International Movies  "
            ]
          },
          "execution_count": 104,
          "metadata": {},
          "output_type": "execute_result"
        }
      ],
      "source": [
        "# Display the first 5 rows\n",
        "df.head()"
      ]
    },
    {
      "cell_type": "code",
      "execution_count": null,
      "id": "f792b0c2-6b89-4fb4-8be7-ff29f5e872c9",
      "metadata": {
        "id": "f792b0c2-6b89-4fb4-8be7-ff29f5e872c9",
        "outputId": "f9b3c9ba-05c6-4067-df71-774a1ab5eb24"
      },
      "outputs": [
        {
          "name": "stdout",
          "output_type": "stream",
          "text": [
            "<class 'pandas.core.frame.DataFrame'>\n",
            "RangeIndex: 8790 entries, 0 to 8789\n",
            "Data columns (total 9 columns):\n",
            " #   Column      Non-Null Count  Dtype \n",
            "---  ------      --------------  ----- \n",
            " 0   show_id     8790 non-null   object\n",
            " 1   Type        8790 non-null   object\n",
            " 2   title       8790 non-null   object\n",
            " 3   director    8790 non-null   object\n",
            " 4   Country     8790 non-null   object\n",
            " 5   date added  8790 non-null   object\n",
            " 6   rating      8790 non-null   object\n",
            " 7   duration    8790 non-null   object\n",
            " 8   listed_in   8790 non-null   object\n",
            "dtypes: object(9)\n",
            "memory usage: 618.2+ KB\n"
          ]
        }
      ],
      "source": [
        "df.info()"
      ]
    },
    {
      "cell_type": "markdown",
      "id": "f03e60dd-e3cd-4c07-8d7f-8393d1c985e5",
      "metadata": {
        "id": "f03e60dd-e3cd-4c07-8d7f-8393d1c985e5"
      },
      "source": [
        "# CLEANING: Standardize text column"
      ]
    },
    {
      "cell_type": "code",
      "execution_count": null,
      "id": "1b4f2f7c-cc3e-4c47-be32-19eecb992e69",
      "metadata": {
        "id": "1b4f2f7c-cc3e-4c47-be32-19eecb992e69"
      },
      "outputs": [],
      "source": [
        "# Standardize text columns (title) to correct inconsistent capitalization\n",
        "# the function below is to apply title case only to text records without truncating numeric records\n",
        "\n",
        "def title(value):\n",
        "    if isinstance(value, str) and not value.isdigit():   # Ensure it's a string and not a pure number\n",
        "        return value.title()\n",
        "    return value"
      ]
    },
    {
      "cell_type": "code",
      "execution_count": null,
      "id": "d7d071ea-6926-426d-9afd-3a8c964b59d0",
      "metadata": {
        "id": "d7d071ea-6926-426d-9afd-3a8c964b59d0"
      },
      "outputs": [],
      "source": [
        "df[\"title\"] = df[\"title\"].apply(title)"
      ]
    },
    {
      "cell_type": "code",
      "execution_count": null,
      "id": "42be2524-148e-40af-8c8a-efb13ca88164",
      "metadata": {
        "id": "42be2524-148e-40af-8c8a-efb13ca88164",
        "outputId": "8b5ceb37-54ea-4ea1-9b80-dfe968d33194"
      },
      "outputs": [
        {
          "data": {
            "text/plain": [
              "0                   Dick Johnson Is Dead\n",
              "1                              Ganglands\n",
              "2                          Midnight Mass\n",
              "3       Confessions Of An Invisible Girl\n",
              "4                                Sankofa\n",
              "                      ...               \n",
              "8785                          Yunus Emre\n",
              "8786                           Zak Storm\n",
              "8787                  Zindagi Gulzar Hai\n",
              "8788                                Yoko\n",
              "8789                                 Yom\n",
              "Name: title, Length: 8790, dtype: object"
            ]
          },
          "execution_count": 109,
          "metadata": {},
          "output_type": "execute_result"
        }
      ],
      "source": [
        "df[\"title\"]"
      ]
    },
    {
      "cell_type": "markdown",
      "id": "1ac69a17-f4f2-45d9-b802-bd20df757f72",
      "metadata": {
        "id": "1ac69a17-f4f2-45d9-b802-bd20df757f72"
      },
      "source": [
        "# CLEANING: Standardizing Country column and taking out abbrevation and wrong spelling"
      ]
    },
    {
      "cell_type": "code",
      "execution_count": null,
      "id": "1fc91e22-dc0f-4180-9b85-846f8b167dc5",
      "metadata": {
        "id": "1fc91e22-dc0f-4180-9b85-846f8b167dc5",
        "outputId": "78150848-8dc8-4a14-bea7-e274053887b2"
      },
      "outputs": [
        {
          "data": {
            "text/plain": [
              "array(['United States', 'France', 'Brazil', 'Us', 'UK', 'India',\n",
              "       'Germany', 'PK', 'US', 'Pakistan', 'Not Given', 'China',\n",
              "       'South Africa', 'Japan', 'JP', 'Nigeria', 'Spain',\n",
              "       'United Kingdom', 'Philippines', 'Australia', 'Argentina',\n",
              "       'Canada', 'Hong Kong', 'Italy', 'New Zealand', 'Egypt', 'Colombia',\n",
              "       'Mexico', 'Belgium', 'Switzerland', 'Argentin', 'Taiwan',\n",
              "       'Bulgaria', 'Poland', 'South Korea', 'Saudi Arabia', 'Thailand',\n",
              "       'Indonesia', 'Kuwait', 'Malaysia', 'australia', 'Vietnam',\n",
              "       'nited States', 'Lebanon', 'Romania', 'Syria', 'united States',\n",
              "       'United Arab Emirates', 'Sweden', 'Mauritius', 'Austria', 'Turkey',\n",
              "       'china', 'Czech Republic', 'ID', 'Cameroon', 'Netherlands',\n",
              "       'Ireland', 'Russia', 'Kenya', 'Chile', 'Uruguay', 'Bangladesh',\n",
              "       'Portugal', 'Hungary', 'Norway', 'canada', 'Singapore', 'Iceland',\n",
              "       'Serbia', 'Namibia', 'Peru', 'Mozambique', 'Ghana', 'thailan',\n",
              "       'Zimbabwe', 'UAE', 'United states', 'United State', 'Israel',\n",
              "       'Finland', 'Denmark', 'HK', 'united states', 'Paraguay',\n",
              "       'Cambodia', 'ITL', 'Georgia', 'Soviet Union', 'Greece',\n",
              "       'West Germany', 'Iran', 'Venezuela', 'us', 'thailand', 'Slovenia',\n",
              "       'uk', 'Guatemala', 'Jamaica', 'Somalia', 'Croatia', 'Jordan',\n",
              "       'Luxembourg', 'Senegal', 'Belarus', 'Puerto Rico', 'Cyprus',\n",
              "       'malaysia', 'taiwan', 'mexico', 'japan', 'india', 'pakistan',\n",
              "       'Ukraine'], dtype=object)"
            ]
          },
          "execution_count": 111,
          "metadata": {},
          "output_type": "execute_result"
        }
      ],
      "source": [
        "# Ensuring country names are unique, standardized, and not abbrevated\n",
        "\n",
        "df[\"Country\"].unique()"
      ]
    },
    {
      "cell_type": "code",
      "execution_count": null,
      "id": "e544de9b-c351-4466-a283-1a22feb8b788",
      "metadata": {
        "id": "e544de9b-c351-4466-a283-1a22feb8b788"
      },
      "outputs": [],
      "source": [
        "correction1 = {\n",
        "    'Us' : 'United States',\n",
        "    'UK' : 'United Kingdom',\n",
        "    'PK' : 'Pakistan',\n",
        "    'JP' : 'Japan',\n",
        "    'Argentin' : 'Argentina',\n",
        "    'australia' : 'Australia',\n",
        "    'china' : 'China',\n",
        "    'nited States' : 'United States',\n",
        "    'united States' : 'United States',\n",
        "    'ID' : 'Indonesia',\n",
        "    'canada' : 'Canada',\n",
        "    'thailan' : 'Thailan',\n",
        "    'UAE' : 'United Arab Emirates',\n",
        "    'United states' : 'United States',\n",
        "    'United State' : 'United States',\n",
        "    'ITL' : 'Italy',\n",
        "    'us' : 'United States',\n",
        "    'thailand' : 'Thailand',\n",
        "    'uk' : 'United Kingdom',\n",
        "    'malaysia' : 'Malaysia',\n",
        "    'taiwan' : 'Taiwan',\n",
        "    'mexico' : 'Mexico',\n",
        "    'japan' : 'Japan',\n",
        "    'india' : 'India',\n",
        "    'pakistan' : 'Pakistan'\n",
        "}"
      ]
    },
    {
      "cell_type": "code",
      "execution_count": null,
      "id": "0c365563-2cda-414b-ba1e-0aa20a917499",
      "metadata": {
        "id": "0c365563-2cda-414b-ba1e-0aa20a917499",
        "outputId": "857de7d4-da4d-49e4-9a59-c8233aeb4263"
      },
      "outputs": [
        {
          "data": {
            "text/plain": [
              "0       United States\n",
              "1              France\n",
              "2       United States\n",
              "3              Brazil\n",
              "4       United States\n",
              "            ...      \n",
              "8785           Turkey\n",
              "8786    United States\n",
              "8787         Pakistan\n",
              "8788         Pakistan\n",
              "8789         Pakistan\n",
              "Name: Country, Length: 8790, dtype: object"
            ]
          },
          "execution_count": 113,
          "metadata": {},
          "output_type": "execute_result"
        }
      ],
      "source": [
        "df[\"Country\"] = df[\"Country\"].replace(correction1)\n",
        "df[\"Country\"]"
      ]
    },
    {
      "cell_type": "markdown",
      "id": "2746f673-b95e-4f8b-9184-004472d98746",
      "metadata": {
        "id": "2746f673-b95e-4f8b-9184-004472d98746"
      },
      "source": [
        "# CLEANING: removing parenthesis from date column"
      ]
    },
    {
      "cell_type": "code",
      "execution_count": null,
      "id": "709fc9d4-0207-4219-8a9c-f9588ba52c37",
      "metadata": {
        "id": "709fc9d4-0207-4219-8a9c-f9588ba52c37"
      },
      "outputs": [],
      "source": [
        "# using dictionary to correct date with parenthesis\n",
        "correction = {\n",
        "    '(9/24/2021)' : pd.to_datetime('2021-09-24')}"
      ]
    },
    {
      "cell_type": "code",
      "execution_count": null,
      "id": "24aab0ed-4801-4b7d-8feb-2c3e62877d3d",
      "metadata": {
        "id": "24aab0ed-4801-4b7d-8feb-2c3e62877d3d"
      },
      "outputs": [],
      "source": [
        "df[\"date added\"] = df[\"date added\"].replace(correction)"
      ]
    },
    {
      "cell_type": "markdown",
      "id": "7d310ac1-db34-4f92-83fc-07bffccb1810",
      "metadata": {
        "id": "7d310ac1-db34-4f92-83fc-07bffccb1810"
      },
      "source": [
        "# CLEANING: Changing datatype of date column to datetime"
      ]
    },
    {
      "cell_type": "code",
      "execution_count": null,
      "id": "e7652f3b-f209-43ee-a41e-80453e8b1318",
      "metadata": {
        "id": "e7652f3b-f209-43ee-a41e-80453e8b1318"
      },
      "outputs": [],
      "source": [
        "# Convert 'date added' to datetime\n",
        "df[\"date added\"] = pd.to_datetime(df[\"date added\"], errors='coerce')"
      ]
    },
    {
      "cell_type": "markdown",
      "id": "84631011-193e-45f3-8c83-5b0da23254bd",
      "metadata": {
        "id": "84631011-193e-45f3-8c83-5b0da23254bd"
      },
      "source": [
        "# CLEANING: Standardizing Type column and removing abbrevations and wrong spelling"
      ]
    },
    {
      "cell_type": "code",
      "execution_count": null,
      "id": "7e8f8ac3-6b96-4219-a869-a2055e2ddabd",
      "metadata": {
        "id": "7e8f8ac3-6b96-4219-a869-a2055e2ddabd",
        "outputId": "34e28050-bfbf-4aa5-9063-d27fcf9dd9f2"
      },
      "outputs": [
        {
          "data": {
            "text/plain": [
              "array(['Movie', 'TV Show', 'Mvie', 'TV', 'TVS', 'Mvi', 'Mv', 'Mve', 'MvE',\n",
              "       'tv', 'm', 'M'], dtype=object)"
            ]
          },
          "execution_count": 120,
          "metadata": {},
          "output_type": "execute_result"
        }
      ],
      "source": [
        "# Ensuring Type column names are unique, standardized, and not abbrevated\n",
        "\n",
        "df[\"Type\"].unique()"
      ]
    },
    {
      "cell_type": "code",
      "execution_count": null,
      "id": "8f07c3c1-dbe2-462b-8813-9241ba4c9754",
      "metadata": {
        "id": "8f07c3c1-dbe2-462b-8813-9241ba4c9754"
      },
      "outputs": [],
      "source": [
        "correction2 = {\n",
        "    'Mvie' : 'Movie',\n",
        "    'TV' : 'TV Show',\n",
        "    'TVS' : 'TV Show',\n",
        "    'Mvi' : 'Movie',\n",
        "    'Mv' : 'Movie',\n",
        "    'Mve' : 'Movie',\n",
        "    'MvE' : 'Movie',\n",
        "    'tv' : 'TV Show',\n",
        "    'm' : 'Movie',\n",
        "    'M' : 'Movie'\n",
        "}"
      ]
    },
    {
      "cell_type": "code",
      "execution_count": null,
      "id": "b3ec76c1-a270-4f0f-a9e2-f0f07a737f25",
      "metadata": {
        "id": "b3ec76c1-a270-4f0f-a9e2-f0f07a737f25"
      },
      "outputs": [],
      "source": [
        "df[\"Type\"] = df[\"Type\"].replace(correction2)"
      ]
    },
    {
      "cell_type": "markdown",
      "id": "aff7ef71-dc93-47c8-99e6-45efc559d35f",
      "metadata": {
        "id": "aff7ef71-dc93-47c8-99e6-45efc559d35f"
      },
      "source": [
        "# Extract year and year-month"
      ]
    },
    {
      "cell_type": "code",
      "execution_count": null,
      "id": "caa58b82-afaf-4e38-93e6-cb7b181a4029",
      "metadata": {
        "id": "caa58b82-afaf-4e38-93e6-cb7b181a4029"
      },
      "outputs": [],
      "source": [
        "df[\"year_added\"] = df[\"date added\"].dt.year\n",
        "df[\"year_month_added\"] = df[\"date added\"].dt.to_period(\"M\")"
      ]
    },
    {
      "cell_type": "code",
      "execution_count": null,
      "id": "c9c12f1e-f57b-4ef4-bac0-3c0111d11f0c",
      "metadata": {
        "id": "c9c12f1e-f57b-4ef4-bac0-3c0111d11f0c"
      },
      "outputs": [],
      "source": [
        "# Getting number of days from when the movie was released till today"
      ]
    },
    {
      "cell_type": "code",
      "execution_count": null,
      "id": "e7813b33-0ff8-42b0-93e8-58bc11714b91",
      "metadata": {
        "id": "e7813b33-0ff8-42b0-93e8-58bc11714b91",
        "outputId": "055ac840-aa0d-4ade-a91d-67ffa7514524"
      },
      "outputs": [
        {
          "data": {
            "text/html": [
              "<div>\n",
              "<style scoped>\n",
              "    .dataframe tbody tr th:only-of-type {\n",
              "        vertical-align: middle;\n",
              "    }\n",
              "\n",
              "    .dataframe tbody tr th {\n",
              "        vertical-align: top;\n",
              "    }\n",
              "\n",
              "    .dataframe thead th {\n",
              "        text-align: right;\n",
              "    }\n",
              "</style>\n",
              "<table border=\"1\" class=\"dataframe\">\n",
              "  <thead>\n",
              "    <tr style=\"text-align: right;\">\n",
              "      <th></th>\n",
              "      <th>title</th>\n",
              "      <th>date added</th>\n",
              "      <th>days_since_release</th>\n",
              "    </tr>\n",
              "  </thead>\n",
              "  <tbody>\n",
              "    <tr>\n",
              "      <th>0</th>\n",
              "      <td>Dick Johnson Is Dead</td>\n",
              "      <td>2021-09-25</td>\n",
              "      <td>1238</td>\n",
              "    </tr>\n",
              "    <tr>\n",
              "      <th>1</th>\n",
              "      <td>Ganglands</td>\n",
              "      <td>2021-09-24</td>\n",
              "      <td>1239</td>\n",
              "    </tr>\n",
              "    <tr>\n",
              "      <th>2</th>\n",
              "      <td>Midnight Mass</td>\n",
              "      <td>2021-09-24</td>\n",
              "      <td>1239</td>\n",
              "    </tr>\n",
              "    <tr>\n",
              "      <th>3</th>\n",
              "      <td>Confessions Of An Invisible Girl</td>\n",
              "      <td>2021-09-22</td>\n",
              "      <td>1241</td>\n",
              "    </tr>\n",
              "    <tr>\n",
              "      <th>4</th>\n",
              "      <td>Sankofa</td>\n",
              "      <td>2021-09-24</td>\n",
              "      <td>1239</td>\n",
              "    </tr>\n",
              "    <tr>\n",
              "      <th>5</th>\n",
              "      <td>The Great British Baking Show</td>\n",
              "      <td>2021-09-24</td>\n",
              "      <td>1239</td>\n",
              "    </tr>\n",
              "    <tr>\n",
              "      <th>6</th>\n",
              "      <td>The Starling</td>\n",
              "      <td>2021-09-24</td>\n",
              "      <td>1239</td>\n",
              "    </tr>\n",
              "    <tr>\n",
              "      <th>7</th>\n",
              "      <td>Motu Patlu In The Game Of Zones</td>\n",
              "      <td>2021-05-01</td>\n",
              "      <td>1385</td>\n",
              "    </tr>\n",
              "    <tr>\n",
              "      <th>8</th>\n",
              "      <td>Je Suis Karl</td>\n",
              "      <td>2021-09-23</td>\n",
              "      <td>1240</td>\n",
              "    </tr>\n",
              "    <tr>\n",
              "      <th>9</th>\n",
              "      <td>Motu Patlu In Wonderland</td>\n",
              "      <td>2021-05-01</td>\n",
              "      <td>1385</td>\n",
              "    </tr>\n",
              "  </tbody>\n",
              "</table>\n",
              "</div>"
            ],
            "text/plain": [
              "                              title date added  days_since_release\n",
              "0              Dick Johnson Is Dead 2021-09-25                1238\n",
              "1                         Ganglands 2021-09-24                1239\n",
              "2                     Midnight Mass 2021-09-24                1239\n",
              "3  Confessions Of An Invisible Girl 2021-09-22                1241\n",
              "4                           Sankofa 2021-09-24                1239\n",
              "5     The Great British Baking Show 2021-09-24                1239\n",
              "6                      The Starling 2021-09-24                1239\n",
              "7   Motu Patlu In The Game Of Zones 2021-05-01                1385\n",
              "8                      Je Suis Karl 2021-09-23                1240\n",
              "9          Motu Patlu In Wonderland 2021-05-01                1385"
            ]
          },
          "execution_count": 126,
          "metadata": {},
          "output_type": "execute_result"
        }
      ],
      "source": [
        "# Get today's date\n",
        "today_date = pd.to_datetime(datetime.today().date())\n",
        "\n",
        "# Calculate the difference in days\n",
        "df[\"days_since_release\"] = (today_date - df[\"date added\"]).dt.days\n",
        "\n",
        "# Checking the result\n",
        "df[[\"title\", \"date added\", \"days_since_release\"]].head(10)\n"
      ]
    },
    {
      "cell_type": "markdown",
      "id": "06ebd4c0-06b0-48c6-a218-1a043cba73b3",
      "metadata": {
        "id": "06ebd4c0-06b0-48c6-a218-1a043cba73b3"
      },
      "source": [
        "# Create a new column to store TV show duration"
      ]
    },
    {
      "cell_type": "code",
      "execution_count": null,
      "id": "02660795-bae0-48a6-89fd-c55346d102cf",
      "metadata": {
        "id": "02660795-bae0-48a6-89fd-c55346d102cf"
      },
      "outputs": [],
      "source": [
        "def TV_Show_duration(df):\n",
        "    df[\"TV_Show_duration\"] = df[\"duration\"].where(df[\"Type\"] == \"TV Show\")\n",
        "\n",
        "    # Remove TV show duration from original column\n",
        "    df.loc[df[\"Type\"] == \"TV Show\", \"duration\"] = None\n",
        "\n",
        "    return df\n"
      ]
    },
    {
      "cell_type": "code",
      "execution_count": null,
      "id": "f48cf46f-497e-418e-bb14-96e762c06750",
      "metadata": {
        "id": "f48cf46f-497e-418e-bb14-96e762c06750",
        "outputId": "19475d87-0420-4957-98af-c5ba6dcbcb95"
      },
      "outputs": [
        {
          "data": {
            "text/html": [
              "<div>\n",
              "<style scoped>\n",
              "    .dataframe tbody tr th:only-of-type {\n",
              "        vertical-align: middle;\n",
              "    }\n",
              "\n",
              "    .dataframe tbody tr th {\n",
              "        vertical-align: top;\n",
              "    }\n",
              "\n",
              "    .dataframe thead th {\n",
              "        text-align: right;\n",
              "    }\n",
              "</style>\n",
              "<table border=\"1\" class=\"dataframe\">\n",
              "  <thead>\n",
              "    <tr style=\"text-align: right;\">\n",
              "      <th></th>\n",
              "      <th>show_id</th>\n",
              "      <th>Type</th>\n",
              "      <th>title</th>\n",
              "      <th>director</th>\n",
              "      <th>Country</th>\n",
              "      <th>date added</th>\n",
              "      <th>rating</th>\n",
              "      <th>duration</th>\n",
              "      <th>listed_in</th>\n",
              "      <th>year_added</th>\n",
              "      <th>year_month_added</th>\n",
              "      <th>days_since_release</th>\n",
              "      <th>TV_Show_duration</th>\n",
              "    </tr>\n",
              "  </thead>\n",
              "  <tbody>\n",
              "    <tr>\n",
              "      <th>0</th>\n",
              "      <td>s1</td>\n",
              "      <td>Movie</td>\n",
              "      <td>Dick Johnson Is Dead</td>\n",
              "      <td>Kirsten Johnson</td>\n",
              "      <td>United States</td>\n",
              "      <td>2021-09-25</td>\n",
              "      <td>PG-13</td>\n",
              "      <td>90 min</td>\n",
              "      <td>Documentaries</td>\n",
              "      <td>2021</td>\n",
              "      <td>2021-09</td>\n",
              "      <td>1238</td>\n",
              "      <td>NaN</td>\n",
              "    </tr>\n",
              "    <tr>\n",
              "      <th>1</th>\n",
              "      <td>s3</td>\n",
              "      <td>TV Show</td>\n",
              "      <td>Ganglands</td>\n",
              "      <td>Julien Leclercq</td>\n",
              "      <td>France</td>\n",
              "      <td>2021-09-24</td>\n",
              "      <td>TV-MA</td>\n",
              "      <td>None</td>\n",
              "      <td>Crime TV Shows, International TV Shows, TV Act...</td>\n",
              "      <td>2021</td>\n",
              "      <td>2021-09</td>\n",
              "      <td>1239</td>\n",
              "      <td>1 Season</td>\n",
              "    </tr>\n",
              "    <tr>\n",
              "      <th>2</th>\n",
              "      <td>s6</td>\n",
              "      <td>TV Show</td>\n",
              "      <td>Midnight Mass</td>\n",
              "      <td>Mike Flanagan</td>\n",
              "      <td>United States</td>\n",
              "      <td>2021-09-24</td>\n",
              "      <td>TV-MA</td>\n",
              "      <td>None</td>\n",
              "      <td>TV Dramas, TV Horror, TV Mysteries</td>\n",
              "      <td>2021</td>\n",
              "      <td>2021-09</td>\n",
              "      <td>1239</td>\n",
              "      <td>1 Season</td>\n",
              "    </tr>\n",
              "    <tr>\n",
              "      <th>3</th>\n",
              "      <td>s14</td>\n",
              "      <td>Movie</td>\n",
              "      <td>Confessions Of An Invisible Girl</td>\n",
              "      <td>Bruno Garotti</td>\n",
              "      <td>Brazil</td>\n",
              "      <td>2021-09-22</td>\n",
              "      <td>TV-PG</td>\n",
              "      <td>91 min</td>\n",
              "      <td>Children &amp; Family Movies, Comedies</td>\n",
              "      <td>2021</td>\n",
              "      <td>2021-09</td>\n",
              "      <td>1241</td>\n",
              "      <td>NaN</td>\n",
              "    </tr>\n",
              "    <tr>\n",
              "      <th>4</th>\n",
              "      <td>s8</td>\n",
              "      <td>Movie</td>\n",
              "      <td>Sankofa</td>\n",
              "      <td>Haile Gerima</td>\n",
              "      <td>United States</td>\n",
              "      <td>2021-09-24</td>\n",
              "      <td>TV-MA</td>\n",
              "      <td>125 min</td>\n",
              "      <td>Dramas, Independent Movies, International Movies</td>\n",
              "      <td>2021</td>\n",
              "      <td>2021-09</td>\n",
              "      <td>1239</td>\n",
              "      <td>NaN</td>\n",
              "    </tr>\n",
              "  </tbody>\n",
              "</table>\n",
              "</div>"
            ],
            "text/plain": [
              "  show_id     Type                             title         director  \\\n",
              "0      s1    Movie              Dick Johnson Is Dead  Kirsten Johnson   \n",
              "1      s3  TV Show                         Ganglands  Julien Leclercq   \n",
              "2      s6  TV Show                     Midnight Mass    Mike Flanagan   \n",
              "3     s14    Movie  Confessions Of An Invisible Girl    Bruno Garotti   \n",
              "4      s8    Movie                           Sankofa     Haile Gerima   \n",
              "\n",
              "         Country date added rating duration  \\\n",
              "0  United States 2021-09-25  PG-13   90 min   \n",
              "1         France 2021-09-24  TV-MA     None   \n",
              "2  United States 2021-09-24  TV-MA     None   \n",
              "3         Brazil 2021-09-22  TV-PG   91 min   \n",
              "4  United States 2021-09-24  TV-MA  125 min   \n",
              "\n",
              "                                           listed_in  year_added  \\\n",
              "0                                      Documentaries        2021   \n",
              "1  Crime TV Shows, International TV Shows, TV Act...        2021   \n",
              "2                 TV Dramas, TV Horror, TV Mysteries        2021   \n",
              "3                 Children & Family Movies, Comedies        2021   \n",
              "4   Dramas, Independent Movies, International Movies        2021   \n",
              "\n",
              "  year_month_added  days_since_release TV_Show_duration  \n",
              "0          2021-09                1238              NaN  \n",
              "1          2021-09                1239         1 Season  \n",
              "2          2021-09                1239         1 Season  \n",
              "3          2021-09                1241              NaN  \n",
              "4          2021-09                1239              NaN  "
            ]
          },
          "execution_count": 129,
          "metadata": {},
          "output_type": "execute_result"
        }
      ],
      "source": [
        "# Display the cleaned dataset preview\n",
        "df = TV_Show_duration(df)\n",
        "df.head()\n"
      ]
    },
    {
      "cell_type": "code",
      "execution_count": null,
      "id": "e8ba1d64-6c19-4e43-a34f-67323b170807",
      "metadata": {
        "id": "e8ba1d64-6c19-4e43-a34f-67323b170807",
        "outputId": "113e1233-89e3-4c94-83fb-a50b1d5c4cee"
      },
      "outputs": [
        {
          "data": {
            "text/plain": [
              "show_id                  0\n",
              "Type                     0\n",
              "title                    0\n",
              "director                 0\n",
              "Country                  0\n",
              "date added               0\n",
              "rating                   0\n",
              "duration              2664\n",
              "listed_in                0\n",
              "year_added               0\n",
              "year_month_added         0\n",
              "days_since_release       0\n",
              "TV_Show_duration      6126\n",
              "dtype: int64"
            ]
          },
          "execution_count": 130,
          "metadata": {},
          "output_type": "execute_result"
        }
      ],
      "source": [
        "df.isnull().sum()"
      ]
    },
    {
      "cell_type": "markdown",
      "id": "250f4c5c-db54-44b6-8665-ef8e150e1c17",
      "metadata": {
        "id": "250f4c5c-db54-44b6-8665-ef8e150e1c17"
      },
      "source": [
        "# Filling up missing values"
      ]
    },
    {
      "cell_type": "code",
      "execution_count": null,
      "id": "6146c700-11ce-4cd8-bc41-fa05ac9e243b",
      "metadata": {
        "id": "6146c700-11ce-4cd8-bc41-fa05ac9e243b"
      },
      "outputs": [],
      "source": [
        "df[[\"duration\", \"TV_Show_duration\"]] = df[[\"duration\", \"TV_Show_duration\"]].fillna(\"NIL\")"
      ]
    },
    {
      "cell_type": "code",
      "execution_count": null,
      "id": "f1ef57ad-fbab-43d3-8a4e-8876758e298e",
      "metadata": {
        "id": "f1ef57ad-fbab-43d3-8a4e-8876758e298e",
        "outputId": "e8fe11bc-b8dc-4933-cebb-2a7ad993dd5b"
      },
      "outputs": [
        {
          "data": {
            "text/plain": [
              "show_id               0\n",
              "Type                  0\n",
              "title                 0\n",
              "director              0\n",
              "Country               0\n",
              "date added            0\n",
              "rating                0\n",
              "duration              0\n",
              "listed_in             0\n",
              "year_added            0\n",
              "year_month_added      0\n",
              "days_since_release    0\n",
              "TV_Show_duration      0\n",
              "dtype: int64"
            ]
          },
          "execution_count": 133,
          "metadata": {},
          "output_type": "execute_result"
        }
      ],
      "source": [
        "df.isnull().sum()"
      ]
    },
    {
      "cell_type": "code",
      "execution_count": null,
      "id": "54a89863-8675-4928-ba1a-5d3531367d71",
      "metadata": {
        "id": "54a89863-8675-4928-ba1a-5d3531367d71",
        "outputId": "30c027ff-21bc-4fab-c87e-4ce43c277148"
      },
      "outputs": [
        {
          "data": {
            "text/html": [
              "<div>\n",
              "<style scoped>\n",
              "    .dataframe tbody tr th:only-of-type {\n",
              "        vertical-align: middle;\n",
              "    }\n",
              "\n",
              "    .dataframe tbody tr th {\n",
              "        vertical-align: top;\n",
              "    }\n",
              "\n",
              "    .dataframe thead th {\n",
              "        text-align: right;\n",
              "    }\n",
              "</style>\n",
              "<table border=\"1\" class=\"dataframe\">\n",
              "  <thead>\n",
              "    <tr style=\"text-align: right;\">\n",
              "      <th></th>\n",
              "      <th>show_id</th>\n",
              "      <th>Type</th>\n",
              "      <th>title</th>\n",
              "      <th>director</th>\n",
              "      <th>Country</th>\n",
              "      <th>date added</th>\n",
              "      <th>rating</th>\n",
              "      <th>duration</th>\n",
              "      <th>listed_in</th>\n",
              "      <th>year_added</th>\n",
              "      <th>year_month_added</th>\n",
              "      <th>days_since_release</th>\n",
              "      <th>TV_Show_duration</th>\n",
              "    </tr>\n",
              "  </thead>\n",
              "  <tbody>\n",
              "    <tr>\n",
              "      <th>0</th>\n",
              "      <td>s1</td>\n",
              "      <td>Movie</td>\n",
              "      <td>Dick Johnson Is Dead</td>\n",
              "      <td>Kirsten Johnson</td>\n",
              "      <td>United States</td>\n",
              "      <td>2021-09-25</td>\n",
              "      <td>PG-13</td>\n",
              "      <td>90 min</td>\n",
              "      <td>Documentaries</td>\n",
              "      <td>2021</td>\n",
              "      <td>2021-09</td>\n",
              "      <td>1238</td>\n",
              "      <td>NIL</td>\n",
              "    </tr>\n",
              "    <tr>\n",
              "      <th>1</th>\n",
              "      <td>s3</td>\n",
              "      <td>TV Show</td>\n",
              "      <td>Ganglands</td>\n",
              "      <td>Julien Leclercq</td>\n",
              "      <td>France</td>\n",
              "      <td>2021-09-24</td>\n",
              "      <td>TV-MA</td>\n",
              "      <td>NIL</td>\n",
              "      <td>Crime TV Shows, International TV Shows, TV Act...</td>\n",
              "      <td>2021</td>\n",
              "      <td>2021-09</td>\n",
              "      <td>1239</td>\n",
              "      <td>1 Season</td>\n",
              "    </tr>\n",
              "    <tr>\n",
              "      <th>2</th>\n",
              "      <td>s6</td>\n",
              "      <td>TV Show</td>\n",
              "      <td>Midnight Mass</td>\n",
              "      <td>Mike Flanagan</td>\n",
              "      <td>United States</td>\n",
              "      <td>2021-09-24</td>\n",
              "      <td>TV-MA</td>\n",
              "      <td>NIL</td>\n",
              "      <td>TV Dramas, TV Horror, TV Mysteries</td>\n",
              "      <td>2021</td>\n",
              "      <td>2021-09</td>\n",
              "      <td>1239</td>\n",
              "      <td>1 Season</td>\n",
              "    </tr>\n",
              "    <tr>\n",
              "      <th>3</th>\n",
              "      <td>s14</td>\n",
              "      <td>Movie</td>\n",
              "      <td>Confessions Of An Invisible Girl</td>\n",
              "      <td>Bruno Garotti</td>\n",
              "      <td>Brazil</td>\n",
              "      <td>2021-09-22</td>\n",
              "      <td>TV-PG</td>\n",
              "      <td>91 min</td>\n",
              "      <td>Children &amp; Family Movies, Comedies</td>\n",
              "      <td>2021</td>\n",
              "      <td>2021-09</td>\n",
              "      <td>1241</td>\n",
              "      <td>NIL</td>\n",
              "    </tr>\n",
              "    <tr>\n",
              "      <th>4</th>\n",
              "      <td>s8</td>\n",
              "      <td>Movie</td>\n",
              "      <td>Sankofa</td>\n",
              "      <td>Haile Gerima</td>\n",
              "      <td>United States</td>\n",
              "      <td>2021-09-24</td>\n",
              "      <td>TV-MA</td>\n",
              "      <td>125 min</td>\n",
              "      <td>Dramas, Independent Movies, International Movies</td>\n",
              "      <td>2021</td>\n",
              "      <td>2021-09</td>\n",
              "      <td>1239</td>\n",
              "      <td>NIL</td>\n",
              "    </tr>\n",
              "  </tbody>\n",
              "</table>\n",
              "</div>"
            ],
            "text/plain": [
              "  show_id     Type                             title         director  \\\n",
              "0      s1    Movie              Dick Johnson Is Dead  Kirsten Johnson   \n",
              "1      s3  TV Show                         Ganglands  Julien Leclercq   \n",
              "2      s6  TV Show                     Midnight Mass    Mike Flanagan   \n",
              "3     s14    Movie  Confessions Of An Invisible Girl    Bruno Garotti   \n",
              "4      s8    Movie                           Sankofa     Haile Gerima   \n",
              "\n",
              "         Country date added rating duration  \\\n",
              "0  United States 2021-09-25  PG-13   90 min   \n",
              "1         France 2021-09-24  TV-MA      NIL   \n",
              "2  United States 2021-09-24  TV-MA      NIL   \n",
              "3         Brazil 2021-09-22  TV-PG   91 min   \n",
              "4  United States 2021-09-24  TV-MA  125 min   \n",
              "\n",
              "                                           listed_in  year_added  \\\n",
              "0                                      Documentaries        2021   \n",
              "1  Crime TV Shows, International TV Shows, TV Act...        2021   \n",
              "2                 TV Dramas, TV Horror, TV Mysteries        2021   \n",
              "3                 Children & Family Movies, Comedies        2021   \n",
              "4   Dramas, Independent Movies, International Movies        2021   \n",
              "\n",
              "  year_month_added  days_since_release TV_Show_duration  \n",
              "0          2021-09                1238              NIL  \n",
              "1          2021-09                1239         1 Season  \n",
              "2          2021-09                1239         1 Season  \n",
              "3          2021-09                1241              NIL  \n",
              "4          2021-09                1239              NIL  "
            ]
          },
          "execution_count": 134,
          "metadata": {},
          "output_type": "execute_result"
        }
      ],
      "source": [
        "df.head()"
      ]
    },
    {
      "cell_type": "code",
      "execution_count": null,
      "id": "b0229aa0-13d1-4db3-a2e8-3805e0d92209",
      "metadata": {
        "id": "b0229aa0-13d1-4db3-a2e8-3805e0d92209",
        "outputId": "6cb201eb-9b78-4a7c-959c-40a8a7332429"
      },
      "outputs": [
        {
          "data": {
            "text/html": [
              "<div>\n",
              "<style scoped>\n",
              "    .dataframe tbody tr th:only-of-type {\n",
              "        vertical-align: middle;\n",
              "    }\n",
              "\n",
              "    .dataframe tbody tr th {\n",
              "        vertical-align: top;\n",
              "    }\n",
              "\n",
              "    .dataframe thead th {\n",
              "        text-align: right;\n",
              "    }\n",
              "</style>\n",
              "<table border=\"1\" class=\"dataframe\">\n",
              "  <thead>\n",
              "    <tr style=\"text-align: right;\">\n",
              "      <th></th>\n",
              "      <th>show_id</th>\n",
              "      <th>Type</th>\n",
              "      <th>title</th>\n",
              "      <th>director</th>\n",
              "      <th>Country</th>\n",
              "      <th>date added</th>\n",
              "      <th>rating</th>\n",
              "      <th>duration</th>\n",
              "      <th>listed_in</th>\n",
              "      <th>year_added</th>\n",
              "      <th>year_month_added</th>\n",
              "      <th>days_since_release</th>\n",
              "      <th>TV_Show_duration</th>\n",
              "    </tr>\n",
              "  </thead>\n",
              "  <tbody>\n",
              "    <tr>\n",
              "      <th>count</th>\n",
              "      <td>8790</td>\n",
              "      <td>8790</td>\n",
              "      <td>8790</td>\n",
              "      <td>8790</td>\n",
              "      <td>8790</td>\n",
              "      <td>8790</td>\n",
              "      <td>8790</td>\n",
              "      <td>8790</td>\n",
              "      <td>8790</td>\n",
              "      <td>8790.000000</td>\n",
              "      <td>8790</td>\n",
              "      <td>8790.000000</td>\n",
              "      <td>8790</td>\n",
              "    </tr>\n",
              "    <tr>\n",
              "      <th>unique</th>\n",
              "      <td>8790</td>\n",
              "      <td>2</td>\n",
              "      <td>8782</td>\n",
              "      <td>4528</td>\n",
              "      <td>90</td>\n",
              "      <td>NaN</td>\n",
              "      <td>23</td>\n",
              "      <td>232</td>\n",
              "      <td>515</td>\n",
              "      <td>NaN</td>\n",
              "      <td>108</td>\n",
              "      <td>NaN</td>\n",
              "      <td>20</td>\n",
              "    </tr>\n",
              "    <tr>\n",
              "      <th>top</th>\n",
              "      <td>s1</td>\n",
              "      <td>Movie</td>\n",
              "      <td>Esperando La Carroza</td>\n",
              "      <td>Not Given</td>\n",
              "      <td>United States</td>\n",
              "      <td>NaN</td>\n",
              "      <td>TV-MA</td>\n",
              "      <td>NIL</td>\n",
              "      <td>Dramas, International Movies</td>\n",
              "      <td>NaN</td>\n",
              "      <td>2021-07</td>\n",
              "      <td>NaN</td>\n",
              "      <td>NIL</td>\n",
              "    </tr>\n",
              "    <tr>\n",
              "      <th>freq</th>\n",
              "      <td>1</td>\n",
              "      <td>6126</td>\n",
              "      <td>2</td>\n",
              "      <td>2588</td>\n",
              "      <td>3101</td>\n",
              "      <td>NaN</td>\n",
              "      <td>3203</td>\n",
              "      <td>2664</td>\n",
              "      <td>362</td>\n",
              "      <td>NaN</td>\n",
              "      <td>257</td>\n",
              "      <td>NaN</td>\n",
              "      <td>6126</td>\n",
              "    </tr>\n",
              "    <tr>\n",
              "      <th>mean</th>\n",
              "      <td>NaN</td>\n",
              "      <td>NaN</td>\n",
              "      <td>NaN</td>\n",
              "      <td>NaN</td>\n",
              "      <td>NaN</td>\n",
              "      <td>2019-05-17 21:44:01.638225408</td>\n",
              "      <td>NaN</td>\n",
              "      <td>NaN</td>\n",
              "      <td>NaN</td>\n",
              "      <td>2018.873606</td>\n",
              "      <td>NaN</td>\n",
              "      <td>2099.094425</td>\n",
              "      <td>NaN</td>\n",
              "    </tr>\n",
              "    <tr>\n",
              "      <th>min</th>\n",
              "      <td>NaN</td>\n",
              "      <td>NaN</td>\n",
              "      <td>NaN</td>\n",
              "      <td>NaN</td>\n",
              "      <td>NaN</td>\n",
              "      <td>2008-01-01 00:00:00</td>\n",
              "      <td>NaN</td>\n",
              "      <td>NaN</td>\n",
              "      <td>NaN</td>\n",
              "      <td>2008.000000</td>\n",
              "      <td>NaN</td>\n",
              "      <td>1238.000000</td>\n",
              "      <td>NaN</td>\n",
              "    </tr>\n",
              "    <tr>\n",
              "      <th>25%</th>\n",
              "      <td>NaN</td>\n",
              "      <td>NaN</td>\n",
              "      <td>NaN</td>\n",
              "      <td>NaN</td>\n",
              "      <td>NaN</td>\n",
              "      <td>2018-04-06 00:00:00</td>\n",
              "      <td>NaN</td>\n",
              "      <td>NaN</td>\n",
              "      <td>NaN</td>\n",
              "      <td>2018.000000</td>\n",
              "      <td>NaN</td>\n",
              "      <td>1639.250000</td>\n",
              "      <td>NaN</td>\n",
              "    </tr>\n",
              "    <tr>\n",
              "      <th>50%</th>\n",
              "      <td>NaN</td>\n",
              "      <td>NaN</td>\n",
              "      <td>NaN</td>\n",
              "      <td>NaN</td>\n",
              "      <td>NaN</td>\n",
              "      <td>2019-07-03 00:00:00</td>\n",
              "      <td>NaN</td>\n",
              "      <td>NaN</td>\n",
              "      <td>NaN</td>\n",
              "      <td>2019.000000</td>\n",
              "      <td>NaN</td>\n",
              "      <td>2053.000000</td>\n",
              "      <td>NaN</td>\n",
              "    </tr>\n",
              "    <tr>\n",
              "      <th>75%</th>\n",
              "      <td>NaN</td>\n",
              "      <td>NaN</td>\n",
              "      <td>NaN</td>\n",
              "      <td>NaN</td>\n",
              "      <td>NaN</td>\n",
              "      <td>2020-08-19 18:00:00</td>\n",
              "      <td>NaN</td>\n",
              "      <td>NaN</td>\n",
              "      <td>NaN</td>\n",
              "      <td>2020.000000</td>\n",
              "      <td>NaN</td>\n",
              "      <td>2506.000000</td>\n",
              "      <td>NaN</td>\n",
              "    </tr>\n",
              "    <tr>\n",
              "      <th>max</th>\n",
              "      <td>NaN</td>\n",
              "      <td>NaN</td>\n",
              "      <td>NaN</td>\n",
              "      <td>NaN</td>\n",
              "      <td>NaN</td>\n",
              "      <td>2021-09-25 00:00:00</td>\n",
              "      <td>NaN</td>\n",
              "      <td>NaN</td>\n",
              "      <td>NaN</td>\n",
              "      <td>2021.000000</td>\n",
              "      <td>NaN</td>\n",
              "      <td>6254.000000</td>\n",
              "      <td>NaN</td>\n",
              "    </tr>\n",
              "    <tr>\n",
              "      <th>std</th>\n",
              "      <td>NaN</td>\n",
              "      <td>NaN</td>\n",
              "      <td>NaN</td>\n",
              "      <td>NaN</td>\n",
              "      <td>NaN</td>\n",
              "      <td>NaN</td>\n",
              "      <td>NaN</td>\n",
              "      <td>NaN</td>\n",
              "      <td>NaN</td>\n",
              "      <td>1.573568</td>\n",
              "      <td>NaN</td>\n",
              "      <td>568.002835</td>\n",
              "      <td>NaN</td>\n",
              "    </tr>\n",
              "  </tbody>\n",
              "</table>\n",
              "</div>"
            ],
            "text/plain": [
              "       show_id   Type                 title   director        Country  \\\n",
              "count     8790   8790                  8790       8790           8790   \n",
              "unique    8790      2                  8782       4528             90   \n",
              "top         s1  Movie  Esperando La Carroza  Not Given  United States   \n",
              "freq         1   6126                     2       2588           3101   \n",
              "mean       NaN    NaN                   NaN        NaN            NaN   \n",
              "min        NaN    NaN                   NaN        NaN            NaN   \n",
              "25%        NaN    NaN                   NaN        NaN            NaN   \n",
              "50%        NaN    NaN                   NaN        NaN            NaN   \n",
              "75%        NaN    NaN                   NaN        NaN            NaN   \n",
              "max        NaN    NaN                   NaN        NaN            NaN   \n",
              "std        NaN    NaN                   NaN        NaN            NaN   \n",
              "\n",
              "                           date added rating duration  \\\n",
              "count                            8790   8790     8790   \n",
              "unique                            NaN     23      232   \n",
              "top                               NaN  TV-MA      NIL   \n",
              "freq                              NaN   3203     2664   \n",
              "mean    2019-05-17 21:44:01.638225408    NaN      NaN   \n",
              "min               2008-01-01 00:00:00    NaN      NaN   \n",
              "25%               2018-04-06 00:00:00    NaN      NaN   \n",
              "50%               2019-07-03 00:00:00    NaN      NaN   \n",
              "75%               2020-08-19 18:00:00    NaN      NaN   \n",
              "max               2021-09-25 00:00:00    NaN      NaN   \n",
              "std                               NaN    NaN      NaN   \n",
              "\n",
              "                           listed_in   year_added year_month_added  \\\n",
              "count                           8790  8790.000000             8790   \n",
              "unique                           515          NaN              108   \n",
              "top     Dramas, International Movies          NaN          2021-07   \n",
              "freq                             362          NaN              257   \n",
              "mean                             NaN  2018.873606              NaN   \n",
              "min                              NaN  2008.000000              NaN   \n",
              "25%                              NaN  2018.000000              NaN   \n",
              "50%                              NaN  2019.000000              NaN   \n",
              "75%                              NaN  2020.000000              NaN   \n",
              "max                              NaN  2021.000000              NaN   \n",
              "std                              NaN     1.573568              NaN   \n",
              "\n",
              "        days_since_release TV_Show_duration  \n",
              "count          8790.000000             8790  \n",
              "unique                 NaN               20  \n",
              "top                    NaN              NIL  \n",
              "freq                   NaN             6126  \n",
              "mean           2099.094425              NaN  \n",
              "min            1238.000000              NaN  \n",
              "25%            1639.250000              NaN  \n",
              "50%            2053.000000              NaN  \n",
              "75%            2506.000000              NaN  \n",
              "max            6254.000000              NaN  \n",
              "std             568.002835              NaN  "
            ]
          },
          "execution_count": 135,
          "metadata": {},
          "output_type": "execute_result"
        }
      ],
      "source": [
        "df.describe(include=\"all\")"
      ]
    },
    {
      "cell_type": "markdown",
      "id": "cc2b498f-c979-4fc2-9d60-ef7d55da7cd3",
      "metadata": {
        "id": "cc2b498f-c979-4fc2-9d60-ef7d55da7cd3"
      },
      "source": [
        "# Most Popular Directors"
      ]
    },
    {
      "cell_type": "code",
      "execution_count": null,
      "id": "0e20b385-d92e-4da5-85cd-1888dd497a52",
      "metadata": {
        "id": "0e20b385-d92e-4da5-85cd-1888dd497a52",
        "outputId": "4d6b6b50-c23b-4ff9-f2b2-964e21163445"
      },
      "outputs": [
        {
          "data": {
            "text/plain": [
              "[('Not Given', 2588),\n",
              " ('Rajiv Chilaka', 20),\n",
              " ('Raúl Campos, Jan Suter', 18),\n",
              " ('Alastair Fothergill', 18),\n",
              " ('Suhas Kadav', 16),\n",
              " ('Marcus Raboy', 16),\n",
              " ('Jay Karas', 14),\n",
              " ('Cathy Garcia-Molina', 13),\n",
              " ('Youssef Chahine', 12),\n",
              " ('Martin Scorsese', 12)]"
            ]
          },
          "execution_count": 137,
          "metadata": {},
          "output_type": "execute_result"
        }
      ],
      "source": [
        "# Counting each director\n",
        "director_counts = Counter(df[\"director\"])\n",
        "\n",
        "# Get the most common directors\n",
        "director_counts.most_common(10)  # Top 10 directors\n"
      ]
    },
    {
      "cell_type": "code",
      "execution_count": null,
      "id": "9c9fafe8-9b0f-4b31-8093-acb948388056",
      "metadata": {
        "id": "9c9fafe8-9b0f-4b31-8093-acb948388056",
        "outputId": "0876cedb-9f92-43a3-869f-87772f5e565d"
      },
      "outputs": [
        {
          "data": {
            "image/png": "[encoded data removed]",
            "text/plain": [
              "<Figure size 1000x500 with 1 Axes>"
            ]
          },
          "metadata": {},
          "output_type": "display_data"
        }
      ],
      "source": [
        "# Filter out \"Not Given\"\n",
        "directors_filtered = [d for d in director_counts.most_common(11) if d[0] != \"Not Given\"][:10]\n",
        "\n",
        "# Extract names and counts\n",
        "names, counts = zip(*directors_filtered)\n",
        "\n",
        "# Plot\n",
        "plt.figure(figsize=(10,5))\n",
        "sns.barplot(x=list(names), y=list(counts), palette=\"Blues_r\")\n",
        "plt.xticks(rotation=45)\n",
        "plt.xlabel(\"Directors\")\n",
        "plt.ylabel(\"Number of Movies/Shows\")\n",
        "plt.title(\"Top 10 Most Popular Directors\")\n",
        "plt.show()\n"
      ]
    },
    {
      "cell_type": "markdown",
      "id": "d4e42630-5174-4ca0-8366-b6da58a1b4d1",
      "metadata": {
        "id": "d4e42630-5174-4ca0-8366-b6da58a1b4d1"
      },
      "source": [
        "# Top 5 & Bottom 5 Countries Producing Movies/Shows"
      ]
    },
    {
      "cell_type": "code",
      "execution_count": null,
      "id": "aaf71004-0f4a-4576-b088-4fb8dd9428d2",
      "metadata": {
        "id": "aaf71004-0f4a-4576-b088-4fb8dd9428d2",
        "outputId": "72a865c3-422d-4da4-8594-ccb9eb410f02"
      },
      "outputs": [
        {
          "data": {
            "text/plain": [
              "(Country\n",
              " United States     3101\n",
              " India             1048\n",
              " United Kingdom     638\n",
              " Pakistan           421\n",
              " Not Given          287\n",
              " Name: count, dtype: int64,\n",
              " Country\n",
              " Greece          1\n",
              " Soviet Union    1\n",
              " Mozambique      1\n",
              " Zimbabwe        1\n",
              " Cameroon        1\n",
              " Name: count, dtype: int64)"
            ]
          },
          "execution_count": 140,
          "metadata": {},
          "output_type": "execute_result"
        }
      ],
      "source": [
        "# Counting each country occurrences\n",
        "country_counts = df[\"Country\"].value_counts()\n",
        "\n",
        "# Top 5 countries\n",
        "top_5_countries = country_counts.head(5)\n",
        "\n",
        "# Bottom 5 countries (excluding missing values)\n",
        "bottom_5_countries = country_counts.tail(5)\n",
        "\n",
        "top_5_countries, bottom_5_countries\n"
      ]
    },
    {
      "cell_type": "code",
      "execution_count": null,
      "id": "276e45da-0890-4da4-89df-306161bdbc12",
      "metadata": {
        "id": "276e45da-0890-4da4-89df-306161bdbc12",
        "outputId": "c76731da-4d87-40e5-f892-f8023a0f427f"
      },
      "outputs": [
        {
          "data": {
            "image/png": "[encoded data removed]",
            "text/plain": [
              "<Figure size 1000x500 with 1 Axes>"
            ]
          },
          "metadata": {},
          "output_type": "display_data"
        },
        {
          "data": {
            "image/png": "[encoded data removed]",
            "text/plain": [
              "<Figure size 1000x500 with 1 Axes>"
            ]
          },
          "metadata": {},
          "output_type": "display_data"
        }
      ],
      "source": [
        "# Exclude \"Not Given\" from the top countries\n",
        "top_5_countries = country_counts[country_counts.index != \"Not Given\"].head(5)\n",
        "\n",
        "# Plot Top 5 Countries\n",
        "plt.figure(figsize=(10, 5))\n",
        "sns.barplot(x=top_5_countries.index, y=top_5_countries.values, palette=\"Blues_r\")\n",
        "plt.xlabel(\"Country\")\n",
        "plt.ylabel(\"Number of Movies/Shows\")\n",
        "plt.title(\"Top 5 Countries Producing Movies/Shows\")\n",
        "plt.show()\n",
        "\n",
        "# Plot Bottom 5 Countries\n",
        "plt.figure(figsize=(10, 5))\n",
        "sns.barplot(x=bottom_5_countries.index, y=bottom_5_countries.values, palette=\"Blues_r\")\n",
        "plt.xlabel(\"Country\")\n",
        "plt.ylabel(\"Number of Movies/Shows\")\n",
        "plt.title(\"Bottom 5 Countries Producing Movies/Shows\")\n",
        "plt.show()\n"
      ]
    },
    {
      "cell_type": "markdown",
      "id": "3b6a67ed-db96-4f5b-b020-9b2c96a02ce2",
      "metadata": {
        "id": "3b6a67ed-db96-4f5b-b020-9b2c96a02ce2"
      },
      "source": [
        "# Movie Trends Over the Years"
      ]
    },
    {
      "cell_type": "code",
      "execution_count": null,
      "id": "18bce26d-f1b7-4eee-8666-7f9d3f2c71da",
      "metadata": {
        "id": "18bce26d-f1b7-4eee-8666-7f9d3f2c71da",
        "outputId": "86447b18-1212-444d-9cc4-b239c88affe6"
      },
      "outputs": [
        {
          "data": {
            "image/png": "[encoded data removed]",
            "text/plain": [
              "<Figure size 1200x500 with 1 Axes>"
            ]
          },
          "metadata": {},
          "output_type": "display_data"
        }
      ],
      "source": [
        "# Showing movie trends over the years by grouping by year and count of movies/shows\n",
        "yearly_trend = df.groupby(\"year_added\")[\"show_id\"].count()\n",
        "\n",
        "# Plot movie trends over the years\n",
        "plt.figure(figsize=(12, 5))\n",
        "sns.lineplot(x=yearly_trend.index, y=yearly_trend.values, marker=\"o\", color=\"b\")\n",
        "plt.xlabel(\"Year\")\n",
        "plt.ylabel(\"Number of Movies/Shows\")\n",
        "plt.title(\"Movie/Show Trends Over the Years\")\n",
        "plt.grid(True)\n",
        "plt.show()\n"
      ]
    },
    {
      "cell_type": "markdown",
      "id": "dc703071-c294-40a8-bf67-709bdbbd6571",
      "metadata": {
        "id": "dc703071-c294-40a8-bf67-709bdbbd6571"
      },
      "source": [
        "# Most Popular Country-Genre Mix"
      ]
    },
    {
      "cell_type": "code",
      "execution_count": null,
      "id": "218f6fd0-2548-4d35-a7e2-bd925eda5bb0",
      "metadata": {
        "id": "218f6fd0-2548-4d35-a7e2-bd925eda5bb0",
        "outputId": "8f2a56de-4444-4a13-f54e-35d119a6b6a7"
      },
      "outputs": [
        {
          "data": {
            "image/png": "[encoded data removed]",
            "text/plain": [
              "<Figure size 1200x500 with 1 Axes>"
            ]
          },
          "metadata": {},
          "output_type": "display_data"
        }
      ],
      "source": [
        "# Expanding the 'listed_in' column (splitting by ', ') since some entries have multiple genre\n",
        "\n",
        "df_exploded = df.assign(listed_in = df['listed_in'].str.split(', ')).explode('listed_in')\n",
        "\n",
        "# Group by country and genre, count occurrences\n",
        "country_genre_counts = df_exploded.groupby([\"Country\", \"listed_in\"])[\"show_id\"].count().reset_index()\n",
        "\n",
        "# Get the top 10 most common country-genre combinations\n",
        "top_country_genre = country_genre_counts.sort_values(by=\"show_id\", ascending=False).head(10)\n",
        "\n",
        "# Plot the result\n",
        "plt.figure(figsize=(12, 5))\n",
        "sns.barplot(data=top_country_genre, x=\"Country\", y=\"show_id\", hue=\"listed_in\")\n",
        "plt.xlabel(\"Country\")\n",
        "plt.ylabel(\"Number of Movies/Shows\")\n",
        "plt.title(\"Most Popular Country-Genre Mix\")\n",
        "plt.xticks(rotation=45)\n",
        "plt.legend(title=\"Genre\", bbox_to_anchor=(1, 1))\n",
        "plt.show()\n"
      ]
    },
    {
      "cell_type": "markdown",
      "id": "d377ca57-7811-444e-8231-a4503dcea02c",
      "metadata": {
        "id": "d377ca57-7811-444e-8231-a4503dcea02c"
      },
      "source": [
        "# Most Popular Movie Genre"
      ]
    },
    {
      "cell_type": "code",
      "execution_count": null,
      "id": "9d9a350d-0f61-4d16-a043-f193f573ad23",
      "metadata": {
        "id": "9d9a350d-0f61-4d16-a043-f193f573ad23",
        "outputId": "6f8d5d30-01a6-48ea-f2ca-df8947d770fb"
      },
      "outputs": [
        {
          "name": "stdout",
          "output_type": "stream",
          "text": [
            "[('International Movies', 2752), ('Dramas', 2426), ('Comedies', 1674), ('International TV Shows', 1348), ('Documentaries', 868), ('Action & Adventure', 859), ('TV Dramas', 761), ('Independent Movies', 756), ('Children & Family Movies', 641), ('Romantic Movies', 616)]\n"
          ]
        },
        {
          "data": {
            "image/png": "[encoded data removed]",
            "text/plain": [
              "<Figure size 1200x500 with 1 Axes>"
            ]
          },
          "metadata": {},
          "output_type": "display_data"
        }
      ],
      "source": [
        "# Splitting the 'listed_in' column and collecting all genres\n",
        "all_genres = []\n",
        "df[\"listed_in\"].dropna().apply(lambda x: all_genres.extend(str(x).split(\", \")))  # Convert to string before split\n",
        "\n",
        "# Counting most popular genres\n",
        "genre_counts = Counter(all_genres)\n",
        "\n",
        "# Display top 10 genres\n",
        "print(genre_counts.most_common(10))\n",
        "\n",
        "# Creating a bar chart\n",
        "plt.figure(figsize=(12, 5))\n",
        "sns.barplot(x=[g[0] for g in genre_counts.most_common(10)], y=[g[1] for g in genre_counts.most_common(10)], palette=\"Blues_r\")\n",
        "plt.xlabel(\"Genre\")\n",
        "plt.ylabel(\"Count\")\n",
        "plt.title(\"Most Popular Movie Genres\")\n",
        "plt.xticks(rotation=45)\n",
        "plt.show()"
      ]
    },
    {
      "cell_type": "markdown",
      "id": "d0df9256-fbcb-4ac5-917a-3731e8662a93",
      "metadata": {
        "id": "d0df9256-fbcb-4ac5-917a-3731e8662a93"
      },
      "source": [
        "# Countries with the Highest Average Movie Duration"
      ]
    },
    {
      "cell_type": "code",
      "execution_count": null,
      "id": "20b7ad6c-728b-41ef-8b31-0329c6fa02b1",
      "metadata": {
        "id": "20b7ad6c-728b-41ef-8b31-0329c6fa02b1",
        "outputId": "a2e22f4b-9e73-49f7-ad90-6dd6d5aa683d"
      },
      "outputs": [
        {
          "data": {
            "image/png": "[encoded data removed]",
            "text/plain": [
              "<Figure size 1200x500 with 1 Axes>"
            ]
          },
          "metadata": {},
          "output_type": "display_data"
        }
      ],
      "source": [
        "# Ensure all values in \"duration\" are strings, except for existing numbers\n",
        "df[\"duration\"] = df[\"duration\"].astype(str)\n",
        "\n",
        "# Extracting all numbers from text where applicable and keep original numeric values in new column\n",
        "df[\"movie_duration\"] = df[\"duration\"].apply(lambda x:\n",
        "    float(x) if isinstance(x, (int, float))  # If it's already a number, keep it (entries that are just numbers)\n",
        "    else float(x) if isinstance(x, str) and x.replace(\".\", \"\", 1).isdigit()  # If it's a numeric string\n",
        "    else pd.to_numeric(str(x).split()[0], errors='coerce')  # Extract number from text and convert\n",
        ")\n",
        "\n",
        "# Filter out TV Shows\n",
        "movies_df = df[df[\"Type\"] == \"Movie\"].copy()\n",
        "\n",
        "# Drop NaN values in movie_duration\n",
        "movies_df = movies_df.dropna(subset=[\"movie_duration\"])\n",
        "\n",
        "# Group by country and compute the average movie duration\n",
        "avg_duration = movies_df.groupby(\"Country\")[\"movie_duration\"].mean().reset_index()\n",
        "\n",
        "# Sort in descending order and get the top 10 countries\n",
        "top_countries_duration = avg_duration.sort_values(by=\"movie_duration\", ascending=False).head(10)\n",
        "\n",
        "# Plot the result\n",
        "plt.figure(figsize=(12, 5))\n",
        "sns.barplot(data=top_countries_duration, x=\"Country\", y=\"movie_duration\", palette=\"Blues_r\")\n",
        "plt.xlabel(\"Country\")\n",
        "plt.ylabel(\"Average Movie Duration (minutes)\")\n",
        "plt.title(\"Countries with Highest Average Movie Duration\")\n",
        "plt.xticks(rotation=45)\n",
        "plt.show()\n"
      ]
    },
    {
      "cell_type": "markdown",
      "id": "02aac6ae-b3d9-480e-974e-6a07bf26f7c5",
      "metadata": {
        "id": "02aac6ae-b3d9-480e-974e-6a07bf26f7c5"
      },
      "source": [
        "# Generating Random Ratings"
      ]
    },
    {
      "cell_type": "code",
      "execution_count": null,
      "id": "13348c1b-2c3f-433a-b29e-20623042fe9b",
      "metadata": {
        "id": "13348c1b-2c3f-433a-b29e-20623042fe9b",
        "outputId": "6bee5755-448d-4dd1-a0cb-7e9ef977d627"
      },
      "outputs": [
        {
          "data": {
            "text/html": [
              "<div>\n",
              "<style scoped>\n",
              "    .dataframe tbody tr th:only-of-type {\n",
              "        vertical-align: middle;\n",
              "    }\n",
              "\n",
              "    .dataframe tbody tr th {\n",
              "        vertical-align: top;\n",
              "    }\n",
              "\n",
              "    .dataframe thead th {\n",
              "        text-align: right;\n",
              "    }\n",
              "</style>\n",
              "<table border=\"1\" class=\"dataframe\">\n",
              "  <thead>\n",
              "    <tr style=\"text-align: right;\">\n",
              "      <th></th>\n",
              "      <th>title</th>\n",
              "      <th>random_rating</th>\n",
              "    </tr>\n",
              "  </thead>\n",
              "  <tbody>\n",
              "    <tr>\n",
              "      <th>0</th>\n",
              "      <td>Dick Johnson Is Dead</td>\n",
              "      <td>7.63</td>\n",
              "    </tr>\n",
              "    <tr>\n",
              "      <th>1</th>\n",
              "      <td>Ganglands</td>\n",
              "      <td>6.08</td>\n",
              "    </tr>\n",
              "    <tr>\n",
              "      <th>2</th>\n",
              "      <td>Midnight Mass</td>\n",
              "      <td>6.16</td>\n",
              "    </tr>\n",
              "    <tr>\n",
              "      <th>3</th>\n",
              "      <td>Confessions Of An Invisible Girl</td>\n",
              "      <td>5.39</td>\n",
              "    </tr>\n",
              "    <tr>\n",
              "      <th>4</th>\n",
              "      <td>Sankofa</td>\n",
              "      <td>7.03</td>\n",
              "    </tr>\n",
              "    <tr>\n",
              "      <th>5</th>\n",
              "      <td>The Great British Baking Show</td>\n",
              "      <td>1.54</td>\n",
              "    </tr>\n",
              "    <tr>\n",
              "      <th>6</th>\n",
              "      <td>The Starling</td>\n",
              "      <td>7.94</td>\n",
              "    </tr>\n",
              "    <tr>\n",
              "      <th>7</th>\n",
              "      <td>Motu Patlu In The Game Of Zones</td>\n",
              "      <td>8.05</td>\n",
              "    </tr>\n",
              "    <tr>\n",
              "      <th>8</th>\n",
              "      <td>Je Suis Karl</td>\n",
              "      <td>2.20</td>\n",
              "    </tr>\n",
              "    <tr>\n",
              "      <th>9</th>\n",
              "      <td>Motu Patlu In Wonderland</td>\n",
              "      <td>4.13</td>\n",
              "    </tr>\n",
              "  </tbody>\n",
              "</table>\n",
              "</div>"
            ],
            "text/plain": [
              "                              title  random_rating\n",
              "0              Dick Johnson Is Dead           7.63\n",
              "1                         Ganglands           6.08\n",
              "2                     Midnight Mass           6.16\n",
              "3  Confessions Of An Invisible Girl           5.39\n",
              "4                           Sankofa           7.03\n",
              "5     The Great British Baking Show           1.54\n",
              "6                      The Starling           7.94\n",
              "7   Motu Patlu In The Game Of Zones           8.05\n",
              "8                      Je Suis Karl           2.20\n",
              "9          Motu Patlu In Wonderland           4.13"
            ]
          },
          "execution_count": 151,
          "metadata": {},
          "output_type": "execute_result"
        }
      ],
      "source": [
        "# Generating random ratings\n",
        "df[\"random_rating\"] = np.round(np.random.uniform(1.0, 10.0, df.shape[0]), 2)\n",
        "\n",
        "# Checking results\n",
        "df[[\"title\", \"random_rating\"]].head(10)\n"
      ]
    },
    {
      "cell_type": "code",
      "execution_count": null,
      "id": "ec63cef9-6373-40cb-a96a-57c6e4b66138",
      "metadata": {
        "id": "ec63cef9-6373-40cb-a96a-57c6e4b66138"
      },
      "outputs": [],
      "source": []
    },
    {
      "cell_type": "code",
      "execution_count": null,
      "id": "35d12861-93ac-4055-9dfa-0954762aa9f2",
      "metadata": {
        "id": "35d12861-93ac-4055-9dfa-0954762aa9f2",
        "outputId": "32813862-8662-429d-9e35-2e3f7a3cb270"
      },
      "outputs": [
        {
          "data": {
            "text/html": [
              "<div>\n",
              "<style scoped>\n",
              "    .dataframe tbody tr th:only-of-type {\n",
              "        vertical-align: middle;\n",
              "    }\n",
              "\n",
              "    .dataframe tbody tr th {\n",
              "        vertical-align: top;\n",
              "    }\n",
              "\n",
              "    .dataframe thead th {\n",
              "        text-align: right;\n",
              "    }\n",
              "</style>\n",
              "<table border=\"1\" class=\"dataframe\">\n",
              "  <thead>\n",
              "    <tr style=\"text-align: right;\">\n",
              "      <th></th>\n",
              "      <th>show_id</th>\n",
              "      <th>Type</th>\n",
              "      <th>title</th>\n",
              "      <th>director</th>\n",
              "      <th>Country</th>\n",
              "      <th>date added</th>\n",
              "      <th>rating</th>\n",
              "      <th>duration</th>\n",
              "      <th>listed_in</th>\n",
              "      <th>year_added</th>\n",
              "      <th>year_month_added</th>\n",
              "      <th>days_since_release</th>\n",
              "      <th>TV_Show_duration</th>\n",
              "      <th>movie_duration</th>\n",
              "      <th>random_rating</th>\n",
              "    </tr>\n",
              "  </thead>\n",
              "  <tbody>\n",
              "    <tr>\n",
              "      <th>0</th>\n",
              "      <td>s1</td>\n",
              "      <td>Movie</td>\n",
              "      <td>Dick Johnson Is Dead</td>\n",
              "      <td>Kirsten Johnson</td>\n",
              "      <td>United States</td>\n",
              "      <td>2021-09-25</td>\n",
              "      <td>PG-13</td>\n",
              "      <td>90 min</td>\n",
              "      <td>Documentaries</td>\n",
              "      <td>2021</td>\n",
              "      <td>2021-09</td>\n",
              "      <td>1238</td>\n",
              "      <td>NIL</td>\n",
              "      <td>90.0</td>\n",
              "      <td>7.63</td>\n",
              "    </tr>\n",
              "    <tr>\n",
              "      <th>1</th>\n",
              "      <td>s3</td>\n",
              "      <td>TV Show</td>\n",
              "      <td>Ganglands</td>\n",
              "      <td>Julien Leclercq</td>\n",
              "      <td>France</td>\n",
              "      <td>2021-09-24</td>\n",
              "      <td>TV-MA</td>\n",
              "      <td>NIL</td>\n",
              "      <td>Crime TV Shows, International TV Shows, TV Act...</td>\n",
              "      <td>2021</td>\n",
              "      <td>2021-09</td>\n",
              "      <td>1239</td>\n",
              "      <td>1 Season</td>\n",
              "      <td>NaN</td>\n",
              "      <td>6.08</td>\n",
              "    </tr>\n",
              "    <tr>\n",
              "      <th>2</th>\n",
              "      <td>s6</td>\n",
              "      <td>TV Show</td>\n",
              "      <td>Midnight Mass</td>\n",
              "      <td>Mike Flanagan</td>\n",
              "      <td>United States</td>\n",
              "      <td>2021-09-24</td>\n",
              "      <td>TV-MA</td>\n",
              "      <td>NIL</td>\n",
              "      <td>TV Dramas, TV Horror, TV Mysteries</td>\n",
              "      <td>2021</td>\n",
              "      <td>2021-09</td>\n",
              "      <td>1239</td>\n",
              "      <td>1 Season</td>\n",
              "      <td>NaN</td>\n",
              "      <td>6.16</td>\n",
              "    </tr>\n",
              "    <tr>\n",
              "      <th>3</th>\n",
              "      <td>s14</td>\n",
              "      <td>Movie</td>\n",
              "      <td>Confessions Of An Invisible Girl</td>\n",
              "      <td>Bruno Garotti</td>\n",
              "      <td>Brazil</td>\n",
              "      <td>2021-09-22</td>\n",
              "      <td>TV-PG</td>\n",
              "      <td>91 min</td>\n",
              "      <td>Children &amp; Family Movies, Comedies</td>\n",
              "      <td>2021</td>\n",
              "      <td>2021-09</td>\n",
              "      <td>1241</td>\n",
              "      <td>NIL</td>\n",
              "      <td>91.0</td>\n",
              "      <td>5.39</td>\n",
              "    </tr>\n",
              "    <tr>\n",
              "      <th>4</th>\n",
              "      <td>s8</td>\n",
              "      <td>Movie</td>\n",
              "      <td>Sankofa</td>\n",
              "      <td>Haile Gerima</td>\n",
              "      <td>United States</td>\n",
              "      <td>2021-09-24</td>\n",
              "      <td>TV-MA</td>\n",
              "      <td>125 min</td>\n",
              "      <td>Dramas, Independent Movies, International Movies</td>\n",
              "      <td>2021</td>\n",
              "      <td>2021-09</td>\n",
              "      <td>1239</td>\n",
              "      <td>NIL</td>\n",
              "      <td>125.0</td>\n",
              "      <td>7.03</td>\n",
              "    </tr>\n",
              "  </tbody>\n",
              "</table>\n",
              "</div>"
            ],
            "text/plain": [
              "  show_id     Type                             title         director  \\\n",
              "0      s1    Movie              Dick Johnson Is Dead  Kirsten Johnson   \n",
              "1      s3  TV Show                         Ganglands  Julien Leclercq   \n",
              "2      s6  TV Show                     Midnight Mass    Mike Flanagan   \n",
              "3     s14    Movie  Confessions Of An Invisible Girl    Bruno Garotti   \n",
              "4      s8    Movie                           Sankofa     Haile Gerima   \n",
              "\n",
              "         Country date added rating duration  \\\n",
              "0  United States 2021-09-25  PG-13   90 min   \n",
              "1         France 2021-09-24  TV-MA      NIL   \n",
              "2  United States 2021-09-24  TV-MA      NIL   \n",
              "3         Brazil 2021-09-22  TV-PG   91 min   \n",
              "4  United States 2021-09-24  TV-MA  125 min   \n",
              "\n",
              "                                           listed_in  year_added  \\\n",
              "0                                      Documentaries        2021   \n",
              "1  Crime TV Shows, International TV Shows, TV Act...        2021   \n",
              "2                 TV Dramas, TV Horror, TV Mysteries        2021   \n",
              "3                 Children & Family Movies, Comedies        2021   \n",
              "4   Dramas, Independent Movies, International Movies        2021   \n",
              "\n",
              "  year_month_added  days_since_release TV_Show_duration  movie_duration  \\\n",
              "0          2021-09                1238              NIL            90.0   \n",
              "1          2021-09                1239         1 Season             NaN   \n",
              "2          2021-09                1239         1 Season             NaN   \n",
              "3          2021-09                1241              NIL            91.0   \n",
              "4          2021-09                1239              NIL           125.0   \n",
              "\n",
              "   random_rating  \n",
              "0           7.63  \n",
              "1           6.08  \n",
              "2           6.16  \n",
              "3           5.39  \n",
              "4           7.03  "
            ]
          },
          "execution_count": 152,
          "metadata": {},
          "output_type": "execute_result"
        }
      ],
      "source": [
        "df.head()"
      ]
    },
    {
      "cell_type": "code",
      "execution_count": null,
      "id": "53ae03ad-ff64-481c-80f0-3fcf1387efa2",
      "metadata": {
        "id": "53ae03ad-ff64-481c-80f0-3fcf1387efa2",
        "outputId": "8bed7bdf-e7e5-4a54-a820-7420d13c97eb"
      },
      "outputs": [
        {
          "data": {
            "text/plain": [
              "show_id                  0\n",
              "Type                     0\n",
              "title                    0\n",
              "director                 0\n",
              "Country                  0\n",
              "date added               0\n",
              "rating                   0\n",
              "duration                 0\n",
              "listed_in                0\n",
              "year_added               0\n",
              "year_month_added         0\n",
              "days_since_release       0\n",
              "TV_Show_duration         0\n",
              "movie_duration        2664\n",
              "random_rating            0\n",
              "dtype: int64"
            ]
          },
          "execution_count": 153,
          "metadata": {},
          "output_type": "execute_result"
        }
      ],
      "source": [
        "df.isnull().sum()"
      ]
    },
    {
      "cell_type": "code",
      "execution_count": null,
      "id": "b6c41216-d2ad-47d0-be85-c1c733c9be4e",
      "metadata": {
        "id": "b6c41216-d2ad-47d0-be85-c1c733c9be4e"
      },
      "outputs": [],
      "source": [
        "df[[\"movie_duration\"]] = df[[\"movie_duration\"]].fillna(\"NIL\")"
      ]
    },
    {
      "cell_type": "code",
      "execution_count": null,
      "id": "453e6e3e-4bcd-4d52-a318-29b6512a10ab",
      "metadata": {
        "id": "453e6e3e-4bcd-4d52-a318-29b6512a10ab",
        "outputId": "6f90b2be-4942-49d5-c3c1-f67079b89520"
      },
      "outputs": [
        {
          "data": {
            "text/plain": [
              "show_id               0\n",
              "Type                  0\n",
              "title                 0\n",
              "director              0\n",
              "Country               0\n",
              "date added            0\n",
              "rating                0\n",
              "duration              0\n",
              "listed_in             0\n",
              "year_added            0\n",
              "year_month_added      0\n",
              "days_since_release    0\n",
              "TV_Show_duration      0\n",
              "movie_duration        0\n",
              "random_rating         0\n",
              "dtype: int64"
            ]
          },
          "execution_count": 155,
          "metadata": {},
          "output_type": "execute_result"
        }
      ],
      "source": [
        "df.isnull().sum()"
      ]
    },
    {
      "cell_type": "code",
      "execution_count": null,
      "id": "91a2a5f0-7e2c-44a1-9c49-a19fd2148bad",
      "metadata": {
        "id": "91a2a5f0-7e2c-44a1-9c49-a19fd2148bad"
      },
      "outputs": [],
      "source": []
    },
    {
      "cell_type": "code",
      "execution_count": null,
      "id": "dd69db51-73e5-42c7-a473-a5e314fb4adc",
      "metadata": {
        "id": "dd69db51-73e5-42c7-a473-a5e314fb4adc"
      },
      "outputs": [],
      "source": []
    },
    {
      "cell_type": "code",
      "execution_count": null,
      "id": "1570e1f6-baf9-427d-817e-b7d693cb67a5",
      "metadata": {
        "id": "1570e1f6-baf9-427d-817e-b7d693cb67a5"
      },
      "outputs": [],
      "source": []
    },
    {
      "cell_type": "code",
      "execution_count": null,
      "id": "aee6cd41-a38b-4f76-8c60-dc02496486ae",
      "metadata": {
        "id": "aee6cd41-a38b-4f76-8c60-dc02496486ae"
      },
      "outputs": [],
      "source": [
        "cleaned_file_path = \"C:\\\\Users\\\\HP\\\\Downloads\\\\Halimat's_Project.xlsx\"\n",
        "df.to_excel(cleaned_file_path, index=False)"
      ]
    },
    {
      "cell_type": "code",
      "execution_count": null,
      "id": "a7cad82e-58cd-4c4c-8958-25652ff4f932",
      "metadata": {
        "id": "a7cad82e-58cd-4c4c-8958-25652ff4f932"
      },
      "outputs": [],
      "source": []
    }
  ],
  "metadata": {
    "kernelspec": {
      "display_name": "Python 3 (ipykernel)",
      "language": "python",
      "name": "python3"
    },
    "language_info": {
      "codemirror_mode": {
        "name": "ipython",
        "version": 3
      },
      "file_extension": ".py",
      "mimetype": "text/x-python",
      "name": "python",
      "nbconvert_exporter": "python",
      "pygments_lexer": "ipython3",
      "version": "3.11.5"
    },
    "colab": {
      "provenance": []
    }
  },
  "nbformat": 4,
  "nbformat_minor": 5
}